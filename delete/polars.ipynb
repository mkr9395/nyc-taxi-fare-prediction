{
 "cells": [
  {
   "cell_type": "code",
   "execution_count": 1,
   "metadata": {},
   "outputs": [],
   "source": [
    "import pandas as pd\n",
    "import polars as pl\n",
    "import numpy as np\n",
    "import pyarrow\n"
   ]
  },
  {
   "cell_type": "code",
   "execution_count": 2,
   "metadata": {},
   "outputs": [
    {
     "data": {
      "text/html": [
       "<div><style>\n",
       ".dataframe > thead > tr,\n",
       ".dataframe > tbody > tr {\n",
       "  text-align: right;\n",
       "  white-space: pre-wrap;\n",
       "}\n",
       "</style>\n",
       "<small>shape: (5, 9)</small><table border=\"1\" class=\"dataframe\"><thead><tr><th>key</th><th>fare_amount</th><th>pickup_datetime</th><th>pickup_longitude</th><th>pickup_latitude</th><th>dropoff_longitude</th><th>dropoff_latitude</th><th>passenger_count</th><th>date</th></tr><tr><td>str</td><td>f64</td><td>datetime[μs]</td><td>f64</td><td>f64</td><td>f64</td><td>f64</td><td>i64</td><td>date</td></tr></thead><tbody><tr><td>&quot;2009-06-15 17:26:21.0000001&quot;</td><td>4.5</td><td>2009-06-15 17:26:21</td><td>-73.844311</td><td>40.721319</td><td>-73.84161</td><td>40.712278</td><td>1</td><td>2009-06-15</td></tr><tr><td>&quot;2010-01-05 16:52:16.0000002&quot;</td><td>16.9</td><td>2010-01-05 16:52:16</td><td>-74.016048</td><td>40.711303</td><td>-73.979268</td><td>40.782004</td><td>1</td><td>2010-01-05</td></tr><tr><td>&quot;2011-08-18 00:35:00.00000049&quot;</td><td>5.7</td><td>2011-08-18 00:35:00</td><td>-73.982738</td><td>40.76127</td><td>-73.991242</td><td>40.750562</td><td>2</td><td>2011-08-18</td></tr><tr><td>&quot;2012-04-21 04:30:42.0000001&quot;</td><td>7.7</td><td>2012-04-21 04:30:42</td><td>-73.98713</td><td>40.733143</td><td>-73.991567</td><td>40.758092</td><td>1</td><td>2012-04-21</td></tr><tr><td>&quot;2010-03-09 07:51:00.000000135&quot;</td><td>5.3</td><td>2010-03-09 07:51:00</td><td>-73.968095</td><td>40.768008</td><td>-73.956655</td><td>40.783762</td><td>1</td><td>2010-03-09</td></tr></tbody></table></div>"
      ],
      "text/plain": [
       "shape: (5, 9)\n",
       "┌───────────┬───────────┬───────────┬───────────┬───┬───────────┬───────────┬───────────┬──────────┐\n",
       "│ key       ┆ fare_amou ┆ pickup_da ┆ pickup_lo ┆ … ┆ dropoff_l ┆ dropoff_l ┆ passenger ┆ date     │\n",
       "│ ---       ┆ nt        ┆ tetime    ┆ ngitude   ┆   ┆ ongitude  ┆ atitude   ┆ _count    ┆ ---      │\n",
       "│ str       ┆ ---       ┆ ---       ┆ ---       ┆   ┆ ---       ┆ ---       ┆ ---       ┆ date     │\n",
       "│           ┆ f64       ┆ datetime[ ┆ f64       ┆   ┆ f64       ┆ f64       ┆ i64       ┆          │\n",
       "│           ┆           ┆ μs]       ┆           ┆   ┆           ┆           ┆           ┆          │\n",
       "╞═══════════╪═══════════╪═══════════╪═══════════╪═══╪═══════════╪═══════════╪═══════════╪══════════╡\n",
       "│ 2009-06-1 ┆ 4.5       ┆ 2009-06-1 ┆ -73.84431 ┆ … ┆ -73.84161 ┆ 40.712278 ┆ 1         ┆ 2009-06- │\n",
       "│ 5 17:26:2 ┆           ┆ 5         ┆ 1         ┆   ┆           ┆           ┆           ┆ 15       │\n",
       "│ 1.0000001 ┆           ┆ 17:26:21  ┆           ┆   ┆           ┆           ┆           ┆          │\n",
       "│ 2010-01-0 ┆ 16.9      ┆ 2010-01-0 ┆ -74.01604 ┆ … ┆ -73.97926 ┆ 40.782004 ┆ 1         ┆ 2010-01- │\n",
       "│ 5 16:52:1 ┆           ┆ 5         ┆ 8         ┆   ┆ 8         ┆           ┆           ┆ 05       │\n",
       "│ 6.0000002 ┆           ┆ 16:52:16  ┆           ┆   ┆           ┆           ┆           ┆          │\n",
       "│ 2011-08-1 ┆ 5.7       ┆ 2011-08-1 ┆ -73.98273 ┆ … ┆ -73.99124 ┆ 40.750562 ┆ 2         ┆ 2011-08- │\n",
       "│ 8 00:35:0 ┆           ┆ 8         ┆ 8         ┆   ┆ 2         ┆           ┆           ┆ 18       │\n",
       "│ 0.0000004 ┆           ┆ 00:35:00  ┆           ┆   ┆           ┆           ┆           ┆          │\n",
       "│ 9         ┆           ┆           ┆           ┆   ┆           ┆           ┆           ┆          │\n",
       "│ 2012-04-2 ┆ 7.7       ┆ 2012-04-2 ┆ -73.98713 ┆ … ┆ -73.99156 ┆ 40.758092 ┆ 1         ┆ 2012-04- │\n",
       "│ 1 04:30:4 ┆           ┆ 1         ┆           ┆   ┆ 7         ┆           ┆           ┆ 21       │\n",
       "│ 2.0000001 ┆           ┆ 04:30:42  ┆           ┆   ┆           ┆           ┆           ┆          │\n",
       "│ 2010-03-0 ┆ 5.3       ┆ 2010-03-0 ┆ -73.96809 ┆ … ┆ -73.95665 ┆ 40.783762 ┆ 1         ┆ 2010-03- │\n",
       "│ 9 07:51:0 ┆           ┆ 9         ┆ 5         ┆   ┆ 5         ┆           ┆           ┆ 09       │\n",
       "│ 0.0000001 ┆           ┆ 07:51:00  ┆           ┆   ┆           ┆           ┆           ┆          │\n",
       "│ 35        ┆           ┆           ┆           ┆   ┆           ┆           ┆           ┆          │\n",
       "└───────────┴───────────┴───────────┴───────────┴───┴───────────┴───────────┴───────────┴──────────┘"
      ]
     },
     "execution_count": 2,
     "metadata": {},
     "output_type": "execute_result"
    }
   ],
   "source": [
    "# Load the Parquet file\n",
    "df = pl.read_parquet(r\"D:\\Project\\data nyc fare data\\train.parquet\")\n",
    "df.head()"
   ]
  },
  {
   "cell_type": "code",
   "execution_count": 3,
   "metadata": {},
   "outputs": [
    {
     "data": {
      "text/plain": [
       "(55423856, 9)"
      ]
     },
     "execution_count": 3,
     "metadata": {},
     "output_type": "execute_result"
    }
   ],
   "source": [
    "df.shape"
   ]
  },
  {
   "cell_type": "code",
   "execution_count": 4,
   "metadata": {},
   "outputs": [
    {
     "data": {
      "text/plain": [
       "['key',\n",
       " 'fare_amount',\n",
       " 'pickup_datetime',\n",
       " 'pickup_longitude',\n",
       " 'pickup_latitude',\n",
       " 'dropoff_longitude',\n",
       " 'dropoff_latitude',\n",
       " 'passenger_count',\n",
       " 'date']"
      ]
     },
     "execution_count": 4,
     "metadata": {},
     "output_type": "execute_result"
    }
   ],
   "source": [
    "df.columns"
   ]
  },
  {
   "cell_type": "code",
   "execution_count": 5,
   "metadata": {},
   "outputs": [
    {
     "data": {
      "text/plain": [
       "(55423856, 7)"
      ]
     },
     "execution_count": 5,
     "metadata": {},
     "output_type": "execute_result"
    }
   ],
   "source": [
    "df = df.drop(['key','date'])\n",
    "df.shape"
   ]
  },
  {
   "cell_type": "code",
   "execution_count": 6,
   "metadata": {},
   "outputs": [],
   "source": [
    "df = df.with_columns(\n",
    "    df['pickup_datetime'].dt.day().alias('date'),\n",
    "    df['pickup_datetime'].dt.month().alias('month'),\n",
    "    df['pickup_datetime'].dt.year().alias('year'),\n",
    "    df['pickup_datetime'].dt.weekday().alias('weekday'),\n",
    "    df['pickup_datetime'].dt.hour().alias('hour'),\n",
    "    df['pickup_datetime'].dt.time().alias('time') \n",
    ")"
   ]
  },
  {
   "cell_type": "code",
   "execution_count": 7,
   "metadata": {},
   "outputs": [
    {
     "data": {
      "text/html": [
       "<div><style>\n",
       ".dataframe > thead > tr,\n",
       ".dataframe > tbody > tr {\n",
       "  text-align: right;\n",
       "  white-space: pre-wrap;\n",
       "}\n",
       "</style>\n",
       "<small>shape: (5, 13)</small><table border=\"1\" class=\"dataframe\"><thead><tr><th>fare_amount</th><th>pickup_datetime</th><th>pickup_longitude</th><th>pickup_latitude</th><th>dropoff_longitude</th><th>dropoff_latitude</th><th>passenger_count</th><th>date</th><th>month</th><th>year</th><th>weekday</th><th>hour</th><th>time</th></tr><tr><td>f64</td><td>datetime[μs]</td><td>f64</td><td>f64</td><td>f64</td><td>f64</td><td>i64</td><td>i8</td><td>i8</td><td>i32</td><td>i8</td><td>i8</td><td>time</td></tr></thead><tbody><tr><td>4.5</td><td>2009-06-15 17:26:21</td><td>-73.844311</td><td>40.721319</td><td>-73.84161</td><td>40.712278</td><td>1</td><td>15</td><td>6</td><td>2009</td><td>1</td><td>17</td><td>17:26:21</td></tr><tr><td>16.9</td><td>2010-01-05 16:52:16</td><td>-74.016048</td><td>40.711303</td><td>-73.979268</td><td>40.782004</td><td>1</td><td>5</td><td>1</td><td>2010</td><td>2</td><td>16</td><td>16:52:16</td></tr><tr><td>5.7</td><td>2011-08-18 00:35:00</td><td>-73.982738</td><td>40.76127</td><td>-73.991242</td><td>40.750562</td><td>2</td><td>18</td><td>8</td><td>2011</td><td>4</td><td>0</td><td>00:35:00</td></tr><tr><td>7.7</td><td>2012-04-21 04:30:42</td><td>-73.98713</td><td>40.733143</td><td>-73.991567</td><td>40.758092</td><td>1</td><td>21</td><td>4</td><td>2012</td><td>6</td><td>4</td><td>04:30:42</td></tr><tr><td>5.3</td><td>2010-03-09 07:51:00</td><td>-73.968095</td><td>40.768008</td><td>-73.956655</td><td>40.783762</td><td>1</td><td>9</td><td>3</td><td>2010</td><td>2</td><td>7</td><td>07:51:00</td></tr></tbody></table></div>"
      ],
      "text/plain": [
       "shape: (5, 13)\n",
       "┌─────────────┬───────────────┬──────────────┬──────────────┬───┬──────┬─────────┬──────┬──────────┐\n",
       "│ fare_amount ┆ pickup_dateti ┆ pickup_longi ┆ pickup_latit ┆ … ┆ year ┆ weekday ┆ hour ┆ time     │\n",
       "│ ---         ┆ me            ┆ tude         ┆ ude          ┆   ┆ ---  ┆ ---     ┆ ---  ┆ ---      │\n",
       "│ f64         ┆ ---           ┆ ---          ┆ ---          ┆   ┆ i32  ┆ i8      ┆ i8   ┆ time     │\n",
       "│             ┆ datetime[μs]  ┆ f64          ┆ f64          ┆   ┆      ┆         ┆      ┆          │\n",
       "╞═════════════╪═══════════════╪══════════════╪══════════════╪═══╪══════╪═════════╪══════╪══════════╡\n",
       "│ 4.5         ┆ 2009-06-15    ┆ -73.844311   ┆ 40.721319    ┆ … ┆ 2009 ┆ 1       ┆ 17   ┆ 17:26:21 │\n",
       "│             ┆ 17:26:21      ┆              ┆              ┆   ┆      ┆         ┆      ┆          │\n",
       "│ 16.9        ┆ 2010-01-05    ┆ -74.016048   ┆ 40.711303    ┆ … ┆ 2010 ┆ 2       ┆ 16   ┆ 16:52:16 │\n",
       "│             ┆ 16:52:16      ┆              ┆              ┆   ┆      ┆         ┆      ┆          │\n",
       "│ 5.7         ┆ 2011-08-18    ┆ -73.982738   ┆ 40.76127     ┆ … ┆ 2011 ┆ 4       ┆ 0    ┆ 00:35:00 │\n",
       "│             ┆ 00:35:00      ┆              ┆              ┆   ┆      ┆         ┆      ┆          │\n",
       "│ 7.7         ┆ 2012-04-21    ┆ -73.98713    ┆ 40.733143    ┆ … ┆ 2012 ┆ 6       ┆ 4    ┆ 04:30:42 │\n",
       "│             ┆ 04:30:42      ┆              ┆              ┆   ┆      ┆         ┆      ┆          │\n",
       "│ 5.3         ┆ 2010-03-09    ┆ -73.968095   ┆ 40.768008    ┆ … ┆ 2010 ┆ 2       ┆ 7    ┆ 07:51:00 │\n",
       "│             ┆ 07:51:00      ┆              ┆              ┆   ┆      ┆         ┆      ┆          │\n",
       "└─────────────┴───────────────┴──────────────┴──────────────┴───┴──────┴─────────┴──────┴──────────┘"
      ]
     },
     "execution_count": 7,
     "metadata": {},
     "output_type": "execute_result"
    }
   ],
   "source": [
    "df.head()"
   ]
  },
  {
   "cell_type": "code",
   "execution_count": 8,
   "metadata": {},
   "outputs": [
    {
     "data": {
      "text/plain": [
       "(55423856, 13)"
      ]
     },
     "execution_count": 8,
     "metadata": {},
     "output_type": "execute_result"
    }
   ],
   "source": [
    "df.shape"
   ]
  },
  {
   "cell_type": "markdown",
   "metadata": {},
   "source": [
    "duplicate_count = df.filter(df.is_duplicated()).shape[0]\n",
    "\n",
    "print(f\"Total number of duplicate rows: {duplicate_count}\")"
   ]
  },
  {
   "cell_type": "code",
   "execution_count": 9,
   "metadata": {},
   "outputs": [
    {
     "data": {
      "text/plain": [
       "(55422206, 13)"
      ]
     },
     "execution_count": 9,
     "metadata": {},
     "output_type": "execute_result"
    }
   ],
   "source": [
    "df = df.unique()\n",
    "df.shape"
   ]
  },
  {
   "cell_type": "code",
   "execution_count": 10,
   "metadata": {},
   "outputs": [
    {
     "data": {
      "text/html": [
       "<div><style>\n",
       ".dataframe > thead > tr,\n",
       ".dataframe > tbody > tr {\n",
       "  text-align: right;\n",
       "  white-space: pre-wrap;\n",
       "}\n",
       "</style>\n",
       "<small>shape: (5, 13)</small><table border=\"1\" class=\"dataframe\"><thead><tr><th>fare_amount</th><th>pickup_datetime</th><th>pickup_longitude</th><th>pickup_latitude</th><th>dropoff_longitude</th><th>dropoff_latitude</th><th>passenger_count</th><th>date</th><th>month</th><th>year</th><th>weekday</th><th>hour</th><th>time</th></tr><tr><td>f64</td><td>datetime[μs]</td><td>f64</td><td>f64</td><td>f64</td><td>f64</td><td>i64</td><td>i8</td><td>i8</td><td>i32</td><td>i8</td><td>i8</td><td>time</td></tr></thead><tbody><tr><td>6.5</td><td>2015-02-05 20:04:20</td><td>-73.993172</td><td>40.767735</td><td>-73.980034</td><td>40.77586</td><td>1</td><td>5</td><td>2</td><td>2015</td><td>4</td><td>20</td><td>20:04:20</td></tr><tr><td>4.5</td><td>2014-02-16 14:06:02</td><td>-73.960529</td><td>40.761612</td><td>-73.962217</td><td>40.767788</td><td>1</td><td>16</td><td>2</td><td>2014</td><td>7</td><td>14</td><td>14:06:02</td></tr><tr><td>6.5</td><td>2012-11-07 19:01:03</td><td>-73.986184</td><td>40.740117</td><td>-73.991788</td><td>40.732972</td><td>1</td><td>7</td><td>11</td><td>2012</td><td>3</td><td>19</td><td>19:01:03</td></tr><tr><td>6.1</td><td>2009-12-01 11:32:55</td><td>-73.954084</td><td>40.784497</td><td>-73.970287</td><td>40.768137</td><td>1</td><td>1</td><td>12</td><td>2009</td><td>2</td><td>11</td><td>11:32:55</td></tr><tr><td>12.1</td><td>2009-01-15 12:54:31</td><td>-73.982465</td><td>40.75603</td><td>-73.954085</td><td>40.77812</td><td>1</td><td>15</td><td>1</td><td>2009</td><td>4</td><td>12</td><td>12:54:31</td></tr></tbody></table></div>"
      ],
      "text/plain": [
       "shape: (5, 13)\n",
       "┌─────────────┬───────────────┬──────────────┬──────────────┬───┬──────┬─────────┬──────┬──────────┐\n",
       "│ fare_amount ┆ pickup_dateti ┆ pickup_longi ┆ pickup_latit ┆ … ┆ year ┆ weekday ┆ hour ┆ time     │\n",
       "│ ---         ┆ me            ┆ tude         ┆ ude          ┆   ┆ ---  ┆ ---     ┆ ---  ┆ ---      │\n",
       "│ f64         ┆ ---           ┆ ---          ┆ ---          ┆   ┆ i32  ┆ i8      ┆ i8   ┆ time     │\n",
       "│             ┆ datetime[μs]  ┆ f64          ┆ f64          ┆   ┆      ┆         ┆      ┆          │\n",
       "╞═════════════╪═══════════════╪══════════════╪══════════════╪═══╪══════╪═════════╪══════╪══════════╡\n",
       "│ 6.5         ┆ 2015-02-05    ┆ -73.993172   ┆ 40.767735    ┆ … ┆ 2015 ┆ 4       ┆ 20   ┆ 20:04:20 │\n",
       "│             ┆ 20:04:20      ┆              ┆              ┆   ┆      ┆         ┆      ┆          │\n",
       "│ 4.5         ┆ 2014-02-16    ┆ -73.960529   ┆ 40.761612    ┆ … ┆ 2014 ┆ 7       ┆ 14   ┆ 14:06:02 │\n",
       "│             ┆ 14:06:02      ┆              ┆              ┆   ┆      ┆         ┆      ┆          │\n",
       "│ 6.5         ┆ 2012-11-07    ┆ -73.986184   ┆ 40.740117    ┆ … ┆ 2012 ┆ 3       ┆ 19   ┆ 19:01:03 │\n",
       "│             ┆ 19:01:03      ┆              ┆              ┆   ┆      ┆         ┆      ┆          │\n",
       "│ 6.1         ┆ 2009-12-01    ┆ -73.954084   ┆ 40.784497    ┆ … ┆ 2009 ┆ 2       ┆ 11   ┆ 11:32:55 │\n",
       "│             ┆ 11:32:55      ┆              ┆              ┆   ┆      ┆         ┆      ┆          │\n",
       "│ 12.1        ┆ 2009-01-15    ┆ -73.982465   ┆ 40.75603     ┆ … ┆ 2009 ┆ 4       ┆ 12   ┆ 12:54:31 │\n",
       "│             ┆ 12:54:31      ┆              ┆              ┆   ┆      ┆         ┆      ┆          │\n",
       "└─────────────┴───────────────┴──────────────┴──────────────┴───┴──────┴─────────┴──────┴──────────┘"
      ]
     },
     "execution_count": 10,
     "metadata": {},
     "output_type": "execute_result"
    }
   ],
   "source": [
    "df.head()"
   ]
  },
  {
   "cell_type": "code",
   "execution_count": 11,
   "metadata": {},
   "outputs": [
    {
     "data": {
      "text/plain": [
       "polars.config.Config"
      ]
     },
     "execution_count": 11,
     "metadata": {},
     "output_type": "execute_result"
    }
   ],
   "source": [
    "pl.Config.set_tbl_cols(100) "
   ]
  },
  {
   "cell_type": "code",
   "execution_count": 12,
   "metadata": {},
   "outputs": [
    {
     "name": "stdout",
     "output_type": "stream",
     "text": [
      "shape: (1, 13)\n",
      "┌─────┬─────┬─────┬────────┬───────┬───────┬───────┬───────┬───────┬───────┬───────┬───────┬───────┐\n",
      "│ far ┆ pic ┆ pic ┆ pickup ┆ dropo ┆ dropo ┆ passe ┆ date_ ┆ month ┆ year_ ┆ weekd ┆ hour_ ┆ time_ │\n",
      "│ e_a ┆ kup ┆ kup ┆ _latit ┆ ff_lo ┆ ff_la ┆ nger_ ┆ null_ ┆ _null ┆ null_ ┆ ay_nu ┆ null_ ┆ null_ │\n",
      "│ mou ┆ _da ┆ _lo ┆ ude_nu ┆ ngitu ┆ titud ┆ count ┆ count ┆ _coun ┆ count ┆ ll_co ┆ count ┆ count │\n",
      "│ nt_ ┆ tet ┆ ngi ┆ ll_cou ┆ de_nu ┆ e_nul ┆ _null ┆ ---   ┆ t     ┆ ---   ┆ unt   ┆ ---   ┆ ---   │\n",
      "│ nul ┆ ime ┆ tud ┆ nt     ┆ ll_co ┆ l_cou ┆ _coun ┆ u32   ┆ ---   ┆ u32   ┆ ---   ┆ u32   ┆ u32   │\n",
      "│ l_c ┆ _nu ┆ e_n ┆ ---    ┆ unt   ┆ nt    ┆ t     ┆       ┆ u32   ┆       ┆ u32   ┆       ┆       │\n",
      "│ oun ┆ ll_ ┆ ull ┆ u32    ┆ ---   ┆ ---   ┆ ---   ┆       ┆       ┆       ┆       ┆       ┆       │\n",
      "│ t   ┆ cou ┆ _co ┆        ┆ u32   ┆ u32   ┆ u32   ┆       ┆       ┆       ┆       ┆       ┆       │\n",
      "│ --- ┆ nt  ┆ unt ┆        ┆       ┆       ┆       ┆       ┆       ┆       ┆       ┆       ┆       │\n",
      "│ u32 ┆ --- ┆ --- ┆        ┆       ┆       ┆       ┆       ┆       ┆       ┆       ┆       ┆       │\n",
      "│     ┆ u32 ┆ u32 ┆        ┆       ┆       ┆       ┆       ┆       ┆       ┆       ┆       ┆       │\n",
      "╞═════╪═════╪═════╪════════╪═══════╪═══════╪═══════╪═══════╪═══════╪═══════╪═══════╪═══════╪═══════╡\n",
      "│ 0   ┆ 0   ┆ 0   ┆ 0      ┆ 376   ┆ 376   ┆ 0     ┆ 0     ┆ 0     ┆ 0     ┆ 0     ┆ 0     ┆ 0     │\n",
      "└─────┴─────┴─────┴────────┴───────┴───────┴───────┴───────┴───────┴───────┴───────┴───────┴───────┘\n"
     ]
    }
   ],
   "source": [
    "null_counts = df.select([\n",
    "    pl.col(col).is_null().sum().alias(f\"{col}_null_count\") for col in df.columns\n",
    "])\n",
    "\n",
    "print(null_counts)"
   ]
  },
  {
   "cell_type": "code",
   "execution_count": 13,
   "metadata": {},
   "outputs": [],
   "source": [
    "df= df.filter(\n",
    "    (pl.col('pickup_longitude') != 0.0) &\n",
    "    (pl.col('pickup_latitude') != 0.0) &\n",
    "    (pl.col('dropoff_longitude') != 0.0) &\n",
    "    (pl.col('dropoff_latitude') != 0.0)\n",
    ")"
   ]
  },
  {
   "cell_type": "code",
   "execution_count": 14,
   "metadata": {},
   "outputs": [
    {
     "data": {
      "text/plain": [
       "(54318972, 13)"
      ]
     },
     "execution_count": 14,
     "metadata": {},
     "output_type": "execute_result"
    }
   ],
   "source": [
    "df.shape"
   ]
  },
  {
   "cell_type": "code",
   "execution_count": 15,
   "metadata": {},
   "outputs": [
    {
     "data": {
      "text/plain": [
       "polars.dataframe.frame.DataFrame"
      ]
     },
     "execution_count": 15,
     "metadata": {},
     "output_type": "execute_result"
    }
   ],
   "source": [
    "type(null_counts)"
   ]
  },
  {
   "cell_type": "code",
   "execution_count": 16,
   "metadata": {},
   "outputs": [],
   "source": [
    "df = df.filter(\n",
    "    (pl.col('pickup_latitude').is_between(-90, 90)) &\n",
    "    (pl.col('dropoff_latitude').is_between(-90, 90))\n",
    ")\n",
    "df = df.filter(\n",
    "    (pl.col('pickup_longitude').is_between(-180, 180)) &\n",
    "    (pl.col('dropoff_longitude').is_between(-180, 180))\n",
    ")"
   ]
  },
  {
   "cell_type": "code",
   "execution_count": 17,
   "metadata": {},
   "outputs": [
    {
     "data": {
      "text/plain": [
       "(54316546, 13)"
      ]
     },
     "execution_count": 17,
     "metadata": {},
     "output_type": "execute_result"
    }
   ],
   "source": [
    "df.shape"
   ]
  },
  {
   "cell_type": "code",
   "execution_count": 18,
   "metadata": {},
   "outputs": [],
   "source": [
    "def haversine(lat1, lon1, lat2, lon2):\n",
    "    lat1, lon1, lat2, lon2 = map(np.radians, [lat1, lon1, lat2, lon2])\n",
    "    dlat = lat2 - lat1\n",
    "    dlon = lon2 - lon1\n",
    "    a = np.sin(dlat / 2)**2 + np.cos(lat1) * np.cos(lat2) * np.sin(dlon / 2)**2\n",
    "    c = 2 * np.arctan2(np.sqrt(a), np.sqrt(1 - a))\n",
    "    return 6371 * c\n"
   ]
  },
  {
   "cell_type": "code",
   "execution_count": 19,
   "metadata": {},
   "outputs": [],
   "source": [
    "df_pandas = df.to_pandas()"
   ]
  },
  {
   "cell_type": "code",
   "execution_count": 20,
   "metadata": {},
   "outputs": [
    {
     "ename": "KeyboardInterrupt",
     "evalue": "",
     "output_type": "error",
     "traceback": [
      "\u001b[1;31m---------------------------------------------------------------------------\u001b[0m",
      "\u001b[1;31mKeyboardInterrupt\u001b[0m                         Traceback (most recent call last)",
      "Cell \u001b[1;32mIn[20], line 1\u001b[0m\n\u001b[1;32m----> 1\u001b[0m df_pandas[\u001b[38;5;124m'\u001b[39m\u001b[38;5;124mhaversine_dist\u001b[39m\u001b[38;5;124m'\u001b[39m] \u001b[38;5;241m=\u001b[39m \u001b[43mdf_pandas\u001b[49m\u001b[38;5;241;43m.\u001b[39;49m\u001b[43mapply\u001b[49m\u001b[43m(\u001b[49m\n\u001b[0;32m      2\u001b[0m \u001b[43m    \u001b[49m\u001b[38;5;28;43;01mlambda\u001b[39;49;00m\u001b[43m \u001b[49m\u001b[43mrow\u001b[49m\u001b[43m:\u001b[49m\u001b[43m \u001b[49m\u001b[43mhaversine\u001b[49m\u001b[43m(\u001b[49m\n\u001b[0;32m      3\u001b[0m \u001b[43m        \u001b[49m\u001b[43mrow\u001b[49m\u001b[43m[\u001b[49m\u001b[38;5;124;43m'\u001b[39;49m\u001b[38;5;124;43mpickup_latitude\u001b[39;49m\u001b[38;5;124;43m'\u001b[39;49m\u001b[43m]\u001b[49m\u001b[43m,\u001b[49m\u001b[43m \u001b[49m\u001b[43mrow\u001b[49m\u001b[43m[\u001b[49m\u001b[38;5;124;43m'\u001b[39;49m\u001b[38;5;124;43mpickup_longitude\u001b[39;49m\u001b[38;5;124;43m'\u001b[39;49m\u001b[43m]\u001b[49m\u001b[43m,\u001b[49m\n\u001b[0;32m      4\u001b[0m \u001b[43m        \u001b[49m\u001b[43mrow\u001b[49m\u001b[43m[\u001b[49m\u001b[38;5;124;43m'\u001b[39;49m\u001b[38;5;124;43mdropoff_latitude\u001b[39;49m\u001b[38;5;124;43m'\u001b[39;49m\u001b[43m]\u001b[49m\u001b[43m,\u001b[49m\u001b[43m \u001b[49m\u001b[43mrow\u001b[49m\u001b[43m[\u001b[49m\u001b[38;5;124;43m'\u001b[39;49m\u001b[38;5;124;43mdropoff_longitude\u001b[39;49m\u001b[38;5;124;43m'\u001b[39;49m\u001b[43m]\u001b[49m\n\u001b[0;32m      5\u001b[0m \u001b[43m    \u001b[49m\u001b[43m)\u001b[49m\u001b[43m,\u001b[49m\n\u001b[0;32m      6\u001b[0m \u001b[43m    \u001b[49m\u001b[43maxis\u001b[49m\u001b[38;5;241;43m=\u001b[39;49m\u001b[38;5;241;43m1\u001b[39;49m\n\u001b[0;32m      7\u001b[0m \u001b[43m)\u001b[49m\n\u001b[0;32m      9\u001b[0m \u001b[38;5;66;03m# Convert back to Polars DataFrame\u001b[39;00m\n\u001b[0;32m     10\u001b[0m df \u001b[38;5;241m=\u001b[39m pl\u001b[38;5;241m.\u001b[39mfrom_pandas(df_pandas)\n",
      "File \u001b[1;32md:\\Project\\data nyc taxi fare prediction\\nyc-taxi-fare-prediction\\nyc-env\\Lib\\site-packages\\pandas\\core\\frame.py:10374\u001b[0m, in \u001b[0;36mDataFrame.apply\u001b[1;34m(self, func, axis, raw, result_type, args, by_row, engine, engine_kwargs, **kwargs)\u001b[0m\n\u001b[0;32m  10360\u001b[0m \u001b[38;5;28;01mfrom\u001b[39;00m \u001b[38;5;21;01mpandas\u001b[39;00m\u001b[38;5;21;01m.\u001b[39;00m\u001b[38;5;21;01mcore\u001b[39;00m\u001b[38;5;21;01m.\u001b[39;00m\u001b[38;5;21;01mapply\u001b[39;00m \u001b[38;5;28;01mimport\u001b[39;00m frame_apply\n\u001b[0;32m  10362\u001b[0m op \u001b[38;5;241m=\u001b[39m frame_apply(\n\u001b[0;32m  10363\u001b[0m     \u001b[38;5;28mself\u001b[39m,\n\u001b[0;32m  10364\u001b[0m     func\u001b[38;5;241m=\u001b[39mfunc,\n\u001b[1;32m   (...)\u001b[0m\n\u001b[0;32m  10372\u001b[0m     kwargs\u001b[38;5;241m=\u001b[39mkwargs,\n\u001b[0;32m  10373\u001b[0m )\n\u001b[1;32m> 10374\u001b[0m \u001b[38;5;28;01mreturn\u001b[39;00m \u001b[43mop\u001b[49m\u001b[38;5;241;43m.\u001b[39;49m\u001b[43mapply\u001b[49m\u001b[43m(\u001b[49m\u001b[43m)\u001b[49m\u001b[38;5;241m.\u001b[39m__finalize__(\u001b[38;5;28mself\u001b[39m, method\u001b[38;5;241m=\u001b[39m\u001b[38;5;124m\"\u001b[39m\u001b[38;5;124mapply\u001b[39m\u001b[38;5;124m\"\u001b[39m)\n",
      "File \u001b[1;32md:\\Project\\data nyc taxi fare prediction\\nyc-taxi-fare-prediction\\nyc-env\\Lib\\site-packages\\pandas\\core\\apply.py:916\u001b[0m, in \u001b[0;36mFrameApply.apply\u001b[1;34m(self)\u001b[0m\n\u001b[0;32m    913\u001b[0m \u001b[38;5;28;01melif\u001b[39;00m \u001b[38;5;28mself\u001b[39m\u001b[38;5;241m.\u001b[39mraw:\n\u001b[0;32m    914\u001b[0m     \u001b[38;5;28;01mreturn\u001b[39;00m \u001b[38;5;28mself\u001b[39m\u001b[38;5;241m.\u001b[39mapply_raw(engine\u001b[38;5;241m=\u001b[39m\u001b[38;5;28mself\u001b[39m\u001b[38;5;241m.\u001b[39mengine, engine_kwargs\u001b[38;5;241m=\u001b[39m\u001b[38;5;28mself\u001b[39m\u001b[38;5;241m.\u001b[39mengine_kwargs)\n\u001b[1;32m--> 916\u001b[0m \u001b[38;5;28;01mreturn\u001b[39;00m \u001b[38;5;28;43mself\u001b[39;49m\u001b[38;5;241;43m.\u001b[39;49m\u001b[43mapply_standard\u001b[49m\u001b[43m(\u001b[49m\u001b[43m)\u001b[49m\n",
      "File \u001b[1;32md:\\Project\\data nyc taxi fare prediction\\nyc-taxi-fare-prediction\\nyc-env\\Lib\\site-packages\\pandas\\core\\apply.py:1063\u001b[0m, in \u001b[0;36mFrameApply.apply_standard\u001b[1;34m(self)\u001b[0m\n\u001b[0;32m   1061\u001b[0m \u001b[38;5;28;01mdef\u001b[39;00m \u001b[38;5;21mapply_standard\u001b[39m(\u001b[38;5;28mself\u001b[39m):\n\u001b[0;32m   1062\u001b[0m     \u001b[38;5;28;01mif\u001b[39;00m \u001b[38;5;28mself\u001b[39m\u001b[38;5;241m.\u001b[39mengine \u001b[38;5;241m==\u001b[39m \u001b[38;5;124m\"\u001b[39m\u001b[38;5;124mpython\u001b[39m\u001b[38;5;124m\"\u001b[39m:\n\u001b[1;32m-> 1063\u001b[0m         results, res_index \u001b[38;5;241m=\u001b[39m \u001b[38;5;28;43mself\u001b[39;49m\u001b[38;5;241;43m.\u001b[39;49m\u001b[43mapply_series_generator\u001b[49m\u001b[43m(\u001b[49m\u001b[43m)\u001b[49m\n\u001b[0;32m   1064\u001b[0m     \u001b[38;5;28;01melse\u001b[39;00m:\n\u001b[0;32m   1065\u001b[0m         results, res_index \u001b[38;5;241m=\u001b[39m \u001b[38;5;28mself\u001b[39m\u001b[38;5;241m.\u001b[39mapply_series_numba()\n",
      "File \u001b[1;32md:\\Project\\data nyc taxi fare prediction\\nyc-taxi-fare-prediction\\nyc-env\\Lib\\site-packages\\pandas\\core\\apply.py:1081\u001b[0m, in \u001b[0;36mFrameApply.apply_series_generator\u001b[1;34m(self)\u001b[0m\n\u001b[0;32m   1078\u001b[0m \u001b[38;5;28;01mwith\u001b[39;00m option_context(\u001b[38;5;124m\"\u001b[39m\u001b[38;5;124mmode.chained_assignment\u001b[39m\u001b[38;5;124m\"\u001b[39m, \u001b[38;5;28;01mNone\u001b[39;00m):\n\u001b[0;32m   1079\u001b[0m     \u001b[38;5;28;01mfor\u001b[39;00m i, v \u001b[38;5;129;01min\u001b[39;00m \u001b[38;5;28menumerate\u001b[39m(series_gen):\n\u001b[0;32m   1080\u001b[0m         \u001b[38;5;66;03m# ignore SettingWithCopy here in case the user mutates\u001b[39;00m\n\u001b[1;32m-> 1081\u001b[0m         results[i] \u001b[38;5;241m=\u001b[39m \u001b[38;5;28;43mself\u001b[39;49m\u001b[38;5;241;43m.\u001b[39;49m\u001b[43mfunc\u001b[49m\u001b[43m(\u001b[49m\u001b[43mv\u001b[49m\u001b[43m,\u001b[49m\u001b[43m \u001b[49m\u001b[38;5;241;43m*\u001b[39;49m\u001b[38;5;28;43mself\u001b[39;49m\u001b[38;5;241;43m.\u001b[39;49m\u001b[43margs\u001b[49m\u001b[43m,\u001b[49m\u001b[43m \u001b[49m\u001b[38;5;241;43m*\u001b[39;49m\u001b[38;5;241;43m*\u001b[39;49m\u001b[38;5;28;43mself\u001b[39;49m\u001b[38;5;241;43m.\u001b[39;49m\u001b[43mkwargs\u001b[49m\u001b[43m)\u001b[49m\n\u001b[0;32m   1082\u001b[0m         \u001b[38;5;28;01mif\u001b[39;00m \u001b[38;5;28misinstance\u001b[39m(results[i], ABCSeries):\n\u001b[0;32m   1083\u001b[0m             \u001b[38;5;66;03m# If we have a view on v, we need to make a copy because\u001b[39;00m\n\u001b[0;32m   1084\u001b[0m             \u001b[38;5;66;03m#  series_generator will swap out the underlying data\u001b[39;00m\n\u001b[0;32m   1085\u001b[0m             results[i] \u001b[38;5;241m=\u001b[39m results[i]\u001b[38;5;241m.\u001b[39mcopy(deep\u001b[38;5;241m=\u001b[39m\u001b[38;5;28;01mFalse\u001b[39;00m)\n",
      "Cell \u001b[1;32mIn[20], line 2\u001b[0m, in \u001b[0;36m<lambda>\u001b[1;34m(row)\u001b[0m\n\u001b[0;32m      1\u001b[0m df_pandas[\u001b[38;5;124m'\u001b[39m\u001b[38;5;124mhaversine_dist\u001b[39m\u001b[38;5;124m'\u001b[39m] \u001b[38;5;241m=\u001b[39m df_pandas\u001b[38;5;241m.\u001b[39mapply(\n\u001b[1;32m----> 2\u001b[0m     \u001b[38;5;28;01mlambda\u001b[39;00m row: \u001b[43mhaversine\u001b[49m\u001b[43m(\u001b[49m\n\u001b[0;32m      3\u001b[0m \u001b[43m        \u001b[49m\u001b[43mrow\u001b[49m\u001b[43m[\u001b[49m\u001b[38;5;124;43m'\u001b[39;49m\u001b[38;5;124;43mpickup_latitude\u001b[39;49m\u001b[38;5;124;43m'\u001b[39;49m\u001b[43m]\u001b[49m\u001b[43m,\u001b[49m\u001b[43m \u001b[49m\u001b[43mrow\u001b[49m\u001b[43m[\u001b[49m\u001b[38;5;124;43m'\u001b[39;49m\u001b[38;5;124;43mpickup_longitude\u001b[39;49m\u001b[38;5;124;43m'\u001b[39;49m\u001b[43m]\u001b[49m\u001b[43m,\u001b[49m\n\u001b[0;32m      4\u001b[0m \u001b[43m        \u001b[49m\u001b[43mrow\u001b[49m\u001b[43m[\u001b[49m\u001b[38;5;124;43m'\u001b[39;49m\u001b[38;5;124;43mdropoff_latitude\u001b[39;49m\u001b[38;5;124;43m'\u001b[39;49m\u001b[43m]\u001b[49m\u001b[43m,\u001b[49m\u001b[43m \u001b[49m\u001b[43mrow\u001b[49m\u001b[43m[\u001b[49m\u001b[38;5;124;43m'\u001b[39;49m\u001b[38;5;124;43mdropoff_longitude\u001b[39;49m\u001b[38;5;124;43m'\u001b[39;49m\u001b[43m]\u001b[49m\n\u001b[0;32m      5\u001b[0m \u001b[43m    \u001b[49m\u001b[43m)\u001b[49m,\n\u001b[0;32m      6\u001b[0m     axis\u001b[38;5;241m=\u001b[39m\u001b[38;5;241m1\u001b[39m\n\u001b[0;32m      7\u001b[0m )\n\u001b[0;32m      9\u001b[0m \u001b[38;5;66;03m# Convert back to Polars DataFrame\u001b[39;00m\n\u001b[0;32m     10\u001b[0m df \u001b[38;5;241m=\u001b[39m pl\u001b[38;5;241m.\u001b[39mfrom_pandas(df_pandas)\n",
      "Cell \u001b[1;32mIn[18], line 5\u001b[0m, in \u001b[0;36mhaversine\u001b[1;34m(lat1, lon1, lat2, lon2)\u001b[0m\n\u001b[0;32m      3\u001b[0m dlat \u001b[38;5;241m=\u001b[39m lat2 \u001b[38;5;241m-\u001b[39m lat1\n\u001b[0;32m      4\u001b[0m dlon \u001b[38;5;241m=\u001b[39m lon2 \u001b[38;5;241m-\u001b[39m lon1\n\u001b[1;32m----> 5\u001b[0m a \u001b[38;5;241m=\u001b[39m np\u001b[38;5;241m.\u001b[39msin(dlat \u001b[38;5;241m/\u001b[39m \u001b[38;5;241m2\u001b[39m)\u001b[38;5;241m*\u001b[39m\u001b[38;5;241m*\u001b[39m\u001b[38;5;241m2\u001b[39m \u001b[38;5;241m+\u001b[39m np\u001b[38;5;241m.\u001b[39mcos(lat1) \u001b[38;5;241m*\u001b[39m np\u001b[38;5;241m.\u001b[39mcos(lat2) \u001b[38;5;241m*\u001b[39m \u001b[43mnp\u001b[49m\u001b[38;5;241;43m.\u001b[39;49m\u001b[43msin\u001b[49m\u001b[43m(\u001b[49m\u001b[43mdlon\u001b[49m\u001b[43m \u001b[49m\u001b[38;5;241;43m/\u001b[39;49m\u001b[43m \u001b[49m\u001b[38;5;241;43m2\u001b[39;49m\u001b[43m)\u001b[49m\u001b[38;5;241m*\u001b[39m\u001b[38;5;241m*\u001b[39m\u001b[38;5;241m2\u001b[39m\n\u001b[0;32m      6\u001b[0m c \u001b[38;5;241m=\u001b[39m \u001b[38;5;241m2\u001b[39m \u001b[38;5;241m*\u001b[39m np\u001b[38;5;241m.\u001b[39marctan2(np\u001b[38;5;241m.\u001b[39msqrt(a), np\u001b[38;5;241m.\u001b[39msqrt(\u001b[38;5;241m1\u001b[39m \u001b[38;5;241m-\u001b[39m a))\n\u001b[0;32m      7\u001b[0m \u001b[38;5;28;01mreturn\u001b[39;00m \u001b[38;5;241m6371\u001b[39m \u001b[38;5;241m*\u001b[39m c\n",
      "\u001b[1;31mKeyboardInterrupt\u001b[0m: "
     ]
    }
   ],
   "source": [
    "df_pandas['haversine_dist'] = df_pandas.apply(\n",
    "    lambda row: haversine(\n",
    "        row['pickup_latitude'], row['pickup_longitude'],\n",
    "        row['dropoff_latitude'], row['dropoff_longitude']\n",
    "    ),\n",
    "    axis=1\n",
    ")\n",
    "\n",
    "# Convert back to Polars DataFrame\n",
    "df = pl.from_pandas(df_pandas)"
   ]
  },
  {
   "cell_type": "code",
   "execution_count": 1,
   "metadata": {},
   "outputs": [
    {
     "name": "stdout",
     "output_type": "stream",
     "text": [
      "Thu Sep 19 22:44:50 2024       \n",
      "+---------------------------------------------------------------------------------------+\n",
      "| NVIDIA-SMI 546.80                 Driver Version: 546.80       CUDA Version: 12.3     |\n",
      "|-----------------------------------------+----------------------+----------------------+\n",
      "| GPU  Name                     TCC/WDDM  | Bus-Id        Disp.A | Volatile Uncorr. ECC |\n",
      "| Fan  Temp   Perf          Pwr:Usage/Cap |         Memory-Usage | GPU-Util  Compute M. |\n",
      "|                                         |                      |               MIG M. |\n",
      "|=========================================+======================+======================|\n",
      "|   0  NVIDIA GeForce RTX 3050 ...  WDDM  | 00000000:01:00.0 Off |                  N/A |\n",
      "| N/A   55C    P0               8W /  40W |      0MiB /  4096MiB |      0%      Default |\n",
      "|                                         |                      |                  N/A |\n",
      "+-----------------------------------------+----------------------+----------------------+\n",
      "                                                                                         \n",
      "+---------------------------------------------------------------------------------------+\n",
      "| Processes:                                                                            |\n",
      "|  GPU   GI   CI        PID   Type   Process name                            GPU Memory |\n",
      "|        ID   ID                                                             Usage      |\n",
      "|=======================================================================================|\n",
      "|  No running processes found                                                           |\n",
      "+---------------------------------------------------------------------------------------+\n"
     ]
    }
   ],
   "source": [
    "!nvidia-smi"
   ]
  },
  {
   "cell_type": "code",
   "execution_count": null,
   "metadata": {},
   "outputs": [],
   "source": []
  },
  {
   "cell_type": "code",
   "execution_count": 2,
   "metadata": {},
   "outputs": [
    {
     "ename": "ModuleNotFoundError",
     "evalue": "GPU engine requested, but required package 'cudf_polars' not found.\nPlease install using the command `pip install cudf-polars-cu12` (or `pip install cudf-polars-cu11` if your system has a CUDA 11 driver).",
     "output_type": "error",
     "traceback": [
      "\u001b[1;31m---------------------------------------------------------------------------\u001b[0m",
      "\u001b[1;31mModuleNotFoundError\u001b[0m                       Traceback (most recent call last)",
      "Cell \u001b[1;32mIn[2], line 7\u001b[0m\n\u001b[0;32m      3\u001b[0m df \u001b[38;5;241m=\u001b[39m pl\u001b[38;5;241m.\u001b[39mLazyFrame({\u001b[38;5;124m\"\u001b[39m\u001b[38;5;124ma\u001b[39m\u001b[38;5;124m\"\u001b[39m: [\u001b[38;5;241m1.242\u001b[39m, \u001b[38;5;241m1.535\u001b[39m]})\n\u001b[0;32m      5\u001b[0m q \u001b[38;5;241m=\u001b[39m df\u001b[38;5;241m.\u001b[39mselect(pl\u001b[38;5;241m.\u001b[39mcol(\u001b[38;5;124m\"\u001b[39m\u001b[38;5;124ma\u001b[39m\u001b[38;5;124m\"\u001b[39m)\u001b[38;5;241m.\u001b[39mround(\u001b[38;5;241m1\u001b[39m))\n\u001b[1;32m----> 7\u001b[0m result \u001b[38;5;241m=\u001b[39m \u001b[43mq\u001b[49m\u001b[38;5;241;43m.\u001b[39;49m\u001b[43mcollect\u001b[49m\u001b[43m(\u001b[49m\u001b[43mengine\u001b[49m\u001b[38;5;241;43m=\u001b[39;49m\u001b[38;5;124;43m\"\u001b[39;49m\u001b[38;5;124;43mgpu\u001b[39;49m\u001b[38;5;124;43m\"\u001b[39;49m\u001b[43m)\u001b[49m\n\u001b[0;32m      8\u001b[0m \u001b[38;5;28mprint\u001b[39m(result)\n",
      "File \u001b[1;32md:\\Project\\data nyc taxi fare prediction\\nyc-taxi-fare-prediction\\nyc-env\\Lib\\site-packages\\polars\\lazyframe\\frame.py:2018\u001b[0m, in \u001b[0;36mLazyFrame.collect\u001b[1;34m(self, type_coercion, predicate_pushdown, projection_pushdown, simplify_expression, slice_pushdown, comm_subplan_elim, comm_subexpr_elim, cluster_with_columns, no_optimization, streaming, engine, background, _eager, **_kwargs)\u001b[0m\n\u001b[0;32m   2016\u001b[0m callback \u001b[38;5;241m=\u001b[39m \u001b[38;5;28;01mNone\u001b[39;00m\n\u001b[0;32m   2017\u001b[0m \u001b[38;5;28;01mif\u001b[39;00m is_gpu:\n\u001b[1;32m-> 2018\u001b[0m     cudf_polars \u001b[38;5;241m=\u001b[39m \u001b[43mimport_optional\u001b[49m\u001b[43m(\u001b[49m\n\u001b[0;32m   2019\u001b[0m \u001b[43m        \u001b[49m\u001b[38;5;124;43m\"\u001b[39;49m\u001b[38;5;124;43mcudf_polars\u001b[39;49m\u001b[38;5;124;43m\"\u001b[39;49m\u001b[43m,\u001b[49m\n\u001b[0;32m   2020\u001b[0m \u001b[43m        \u001b[49m\u001b[43merr_prefix\u001b[49m\u001b[38;5;241;43m=\u001b[39;49m\u001b[38;5;124;43m\"\u001b[39;49m\u001b[38;5;124;43mGPU engine requested, but required package\u001b[39;49m\u001b[38;5;124;43m\"\u001b[39;49m\u001b[43m,\u001b[49m\n\u001b[0;32m   2021\u001b[0m \u001b[43m        \u001b[49m\u001b[43minstall_message\u001b[49m\u001b[38;5;241;43m=\u001b[39;49m\u001b[43m(\u001b[49m\n\u001b[0;32m   2022\u001b[0m \u001b[43m            \u001b[49m\u001b[38;5;124;43m\"\u001b[39;49m\u001b[38;5;124;43mPlease install using the command `pip install cudf-polars-cu12` \u001b[39;49m\u001b[38;5;124;43m\"\u001b[39;49m\n\u001b[0;32m   2023\u001b[0m \u001b[43m            \u001b[49m\u001b[38;5;124;43m\"\u001b[39;49m\u001b[38;5;124;43m(or `pip install cudf-polars-cu11` if your system has a \u001b[39;49m\u001b[38;5;124;43m\"\u001b[39;49m\n\u001b[0;32m   2024\u001b[0m \u001b[43m            \u001b[49m\u001b[38;5;124;43m\"\u001b[39;49m\u001b[38;5;124;43mCUDA 11 driver).\u001b[39;49m\u001b[38;5;124;43m\"\u001b[39;49m\n\u001b[0;32m   2025\u001b[0m \u001b[43m        \u001b[49m\u001b[43m)\u001b[49m\u001b[43m,\u001b[49m\n\u001b[0;32m   2026\u001b[0m \u001b[43m    \u001b[49m\u001b[43m)\u001b[49m\n\u001b[0;32m   2027\u001b[0m     \u001b[38;5;28;01mif\u001b[39;00m \u001b[38;5;129;01mnot\u001b[39;00m is_config_obj:\n\u001b[0;32m   2028\u001b[0m         engine \u001b[38;5;241m=\u001b[39m GPUEngine()\n",
      "File \u001b[1;32md:\\Project\\data nyc taxi fare prediction\\nyc-taxi-fare-prediction\\nyc-env\\Lib\\site-packages\\polars\\dependencies.py:280\u001b[0m, in \u001b[0;36mimport_optional\u001b[1;34m(module_name, err_prefix, err_suffix, min_version, min_err_prefix, install_message)\u001b[0m\n\u001b[0;32m    275\u001b[0m     suffix \u001b[38;5;241m=\u001b[39m \u001b[38;5;124mf\u001b[39m\u001b[38;5;124m\"\u001b[39m\u001b[38;5;124m \u001b[39m\u001b[38;5;132;01m{\u001b[39;00merr_suffix\u001b[38;5;241m.\u001b[39mstrip(\u001b[38;5;124m'\u001b[39m\u001b[38;5;124m \u001b[39m\u001b[38;5;124m'\u001b[39m)\u001b[38;5;132;01m}\u001b[39;00m\u001b[38;5;124m\"\u001b[39m \u001b[38;5;28;01mif\u001b[39;00m err_suffix \u001b[38;5;28;01melse\u001b[39;00m \u001b[38;5;124m\"\u001b[39m\u001b[38;5;124m\"\u001b[39m\n\u001b[0;32m    276\u001b[0m     err_message \u001b[38;5;241m=\u001b[39m \u001b[38;5;124mf\u001b[39m\u001b[38;5;124m\"\u001b[39m\u001b[38;5;132;01m{\u001b[39;00mprefix\u001b[38;5;132;01m}\u001b[39;00m\u001b[38;5;124m'\u001b[39m\u001b[38;5;132;01m{\u001b[39;00mmodule_name\u001b[38;5;132;01m}\u001b[39;00m\u001b[38;5;124m'\u001b[39m\u001b[38;5;132;01m{\u001b[39;00msuffix\u001b[38;5;132;01m}\u001b[39;00m\u001b[38;5;124m.\u001b[39m\u001b[38;5;130;01m\\n\u001b[39;00m\u001b[38;5;124m\"\u001b[39m \u001b[38;5;241m+\u001b[39m (\n\u001b[0;32m    277\u001b[0m         install_message\n\u001b[0;32m    278\u001b[0m         \u001b[38;5;129;01mor\u001b[39;00m \u001b[38;5;124mf\u001b[39m\u001b[38;5;124m\"\u001b[39m\u001b[38;5;124mPlease install using the command `pip install \u001b[39m\u001b[38;5;132;01m{\u001b[39;00mmodule_root\u001b[38;5;132;01m}\u001b[39;00m\u001b[38;5;124m`.\u001b[39m\u001b[38;5;124m\"\u001b[39m\n\u001b[0;32m    279\u001b[0m     )\n\u001b[1;32m--> 280\u001b[0m     \u001b[38;5;28;01mraise\u001b[39;00m \u001b[38;5;167;01mModuleNotFoundError\u001b[39;00m(err_message) \u001b[38;5;28;01mfrom\u001b[39;00m \u001b[38;5;28;01mNone\u001b[39;00m\n\u001b[0;32m    282\u001b[0m \u001b[38;5;28;01mif\u001b[39;00m min_version:\n\u001b[0;32m    283\u001b[0m     min_version \u001b[38;5;241m=\u001b[39m parse_version(min_version)\n",
      "\u001b[1;31mModuleNotFoundError\u001b[0m: GPU engine requested, but required package 'cudf_polars' not found.\nPlease install using the command `pip install cudf-polars-cu12` (or `pip install cudf-polars-cu11` if your system has a CUDA 11 driver)."
     ]
    }
   ],
   "source": [
    "import polars as pl\n",
    "\n",
    "df = pl.LazyFrame({\"a\": [1.242, 1.535]})\n",
    "\n",
    "q = df.select(pl.col(\"a\").round(1))\n",
    "\n",
    "result = q.collect(engine=\"gpu\")\n",
    "print(result)"
   ]
  },
  {
   "cell_type": "code",
   "execution_count": null,
   "metadata": {},
   "outputs": [],
   "source": []
  }
 ],
 "metadata": {
  "kernelspec": {
   "display_name": "nyc-env",
   "language": "python",
   "name": "python3"
  },
  "language_info": {
   "codemirror_mode": {
    "name": "ipython",
    "version": 3
   },
   "file_extension": ".py",
   "mimetype": "text/x-python",
   "name": "python",
   "nbconvert_exporter": "python",
   "pygments_lexer": "ipython3",
   "version": "3.11.9"
  }
 },
 "nbformat": 4,
 "nbformat_minor": 2
}
