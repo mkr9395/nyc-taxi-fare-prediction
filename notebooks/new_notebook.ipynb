{
 "cells": [
  {
   "cell_type": "code",
   "execution_count": 11,
   "metadata": {},
   "outputs": [],
   "source": [
    "import pandas as pd\n",
    "import numpy as np\n",
    "import matplotlib.pyplot as plt\n",
    "import seaborn\n",
    "import sklearn"
   ]
  },
  {
   "cell_type": "code",
   "execution_count": 3,
   "metadata": {},
   "outputs": [
    {
     "data": {
      "text/html": [
       "<div>\n",
       "<style scoped>\n",
       "    .dataframe tbody tr th:only-of-type {\n",
       "        vertical-align: middle;\n",
       "    }\n",
       "\n",
       "    .dataframe tbody tr th {\n",
       "        vertical-align: top;\n",
       "    }\n",
       "\n",
       "    .dataframe thead th {\n",
       "        text-align: right;\n",
       "    }\n",
       "</style>\n",
       "<table border=\"1\" class=\"dataframe\">\n",
       "  <thead>\n",
       "    <tr style=\"text-align: right;\">\n",
       "      <th></th>\n",
       "      <th>fare_amount</th>\n",
       "      <th>pickup_datetime</th>\n",
       "      <th>pickup_longitude</th>\n",
       "      <th>pickup_latitude</th>\n",
       "      <th>dropoff_longitude</th>\n",
       "      <th>dropoff_latitude</th>\n",
       "      <th>passenger_count</th>\n",
       "      <th>date</th>\n",
       "      <th>month</th>\n",
       "      <th>year</th>\n",
       "      <th>week_day</th>\n",
       "      <th>time_pickup</th>\n",
       "      <th>hour_pickup</th>\n",
       "      <th>haversine_dist</th>\n",
       "    </tr>\n",
       "  </thead>\n",
       "  <tbody>\n",
       "    <tr>\n",
       "      <th>0</th>\n",
       "      <td>11.7</td>\n",
       "      <td>2009-05-11 18:51:09</td>\n",
       "      <td>-73.998862</td>\n",
       "      <td>40.723074</td>\n",
       "      <td>-73.958886</td>\n",
       "      <td>40.764018</td>\n",
       "      <td>1</td>\n",
       "      <td>11</td>\n",
       "      <td>5</td>\n",
       "      <td>2009</td>\n",
       "      <td>0</td>\n",
       "      <td>18:51:09</td>\n",
       "      <td>18</td>\n",
       "      <td>5.663016</td>\n",
       "    </tr>\n",
       "    <tr>\n",
       "      <th>1</th>\n",
       "      <td>14.5</td>\n",
       "      <td>2014-04-29 23:22:54</td>\n",
       "      <td>-73.863269</td>\n",
       "      <td>40.769199</td>\n",
       "      <td>-73.888674</td>\n",
       "      <td>40.751314</td>\n",
       "      <td>1</td>\n",
       "      <td>29</td>\n",
       "      <td>4</td>\n",
       "      <td>2014</td>\n",
       "      <td>1</td>\n",
       "      <td>23:22:54</td>\n",
       "      <td>23</td>\n",
       "      <td>2.921201</td>\n",
       "    </tr>\n",
       "    <tr>\n",
       "      <th>2</th>\n",
       "      <td>4.1</td>\n",
       "      <td>2011-11-14 22:01:00</td>\n",
       "      <td>-74.002092</td>\n",
       "      <td>40.750878</td>\n",
       "      <td>-73.998700</td>\n",
       "      <td>40.750160</td>\n",
       "      <td>1</td>\n",
       "      <td>14</td>\n",
       "      <td>11</td>\n",
       "      <td>2011</td>\n",
       "      <td>0</td>\n",
       "      <td>22:01:00</td>\n",
       "      <td>22</td>\n",
       "      <td>0.296675</td>\n",
       "    </tr>\n",
       "    <tr>\n",
       "      <th>3</th>\n",
       "      <td>9.7</td>\n",
       "      <td>2011-06-30 12:51:00</td>\n",
       "      <td>-73.927200</td>\n",
       "      <td>40.764652</td>\n",
       "      <td>-73.964990</td>\n",
       "      <td>40.759925</td>\n",
       "      <td>1</td>\n",
       "      <td>30</td>\n",
       "      <td>6</td>\n",
       "      <td>2011</td>\n",
       "      <td>3</td>\n",
       "      <td>12:51:00</td>\n",
       "      <td>12</td>\n",
       "      <td>3.225852</td>\n",
       "    </tr>\n",
       "    <tr>\n",
       "      <th>4</th>\n",
       "      <td>7.3</td>\n",
       "      <td>2012-04-09 08:34:00</td>\n",
       "      <td>-73.980698</td>\n",
       "      <td>40.769550</td>\n",
       "      <td>-73.973877</td>\n",
       "      <td>40.787225</td>\n",
       "      <td>2</td>\n",
       "      <td>9</td>\n",
       "      <td>4</td>\n",
       "      <td>2012</td>\n",
       "      <td>0</td>\n",
       "      <td>08:34:00</td>\n",
       "      <td>8</td>\n",
       "      <td>2.047570</td>\n",
       "    </tr>\n",
       "  </tbody>\n",
       "</table>\n",
       "</div>"
      ],
      "text/plain": [
       "   fare_amount     pickup_datetime  pickup_longitude  pickup_latitude  \\\n",
       "0         11.7 2009-05-11 18:51:09        -73.998862        40.723074   \n",
       "1         14.5 2014-04-29 23:22:54        -73.863269        40.769199   \n",
       "2          4.1 2011-11-14 22:01:00        -74.002092        40.750878   \n",
       "3          9.7 2011-06-30 12:51:00        -73.927200        40.764652   \n",
       "4          7.3 2012-04-09 08:34:00        -73.980698        40.769550   \n",
       "\n",
       "   dropoff_longitude  dropoff_latitude  passenger_count  date  month  year  \\\n",
       "0         -73.958886         40.764018                1    11      5  2009   \n",
       "1         -73.888674         40.751314                1    29      4  2014   \n",
       "2         -73.998700         40.750160                1    14     11  2011   \n",
       "3         -73.964990         40.759925                1    30      6  2011   \n",
       "4         -73.973877         40.787225                2     9      4  2012   \n",
       "\n",
       "   week_day time_pickup  hour_pickup  haversine_dist  \n",
       "0         0    18:51:09           18        5.663016  \n",
       "1         1    23:22:54           23        2.921201  \n",
       "2         0    22:01:00           22        0.296675  \n",
       "3         3    12:51:00           12        3.225852  \n",
       "4         0    08:34:00            8        2.047570  "
      ]
     },
     "execution_count": 3,
     "metadata": {},
     "output_type": "execute_result"
    }
   ],
   "source": [
    "df = pd.read_parquet(r\"D:\\Project\\data nyc fare data\\train_small.parquet\")\n",
    "df.head()"
   ]
  },
  {
   "cell_type": "code",
   "execution_count": 4,
   "metadata": {},
   "outputs": [
    {
     "data": {
      "text/plain": [
       "(27157185, 14)"
      ]
     },
     "execution_count": 4,
     "metadata": {},
     "output_type": "execute_result"
    }
   ],
   "source": [
    "df.shape"
   ]
  },
  {
   "cell_type": "code",
   "execution_count": 5,
   "metadata": {},
   "outputs": [
    {
     "data": {
      "text/plain": [
       "fare_amount          0\n",
       "pickup_datetime      0\n",
       "pickup_longitude     0\n",
       "pickup_latitude      0\n",
       "dropoff_longitude    0\n",
       "dropoff_latitude     0\n",
       "passenger_count      0\n",
       "date                 0\n",
       "month                0\n",
       "year                 0\n",
       "week_day             0\n",
       "time_pickup          0\n",
       "hour_pickup          0\n",
       "haversine_dist       0\n",
       "dtype: int64"
      ]
     },
     "execution_count": 5,
     "metadata": {},
     "output_type": "execute_result"
    }
   ],
   "source": [
    "df.isnull().sum()"
   ]
  },
  {
   "cell_type": "code",
   "execution_count": 6,
   "metadata": {},
   "outputs": [
    {
     "data": {
      "text/plain": [
       "passenger_count\n",
       "1    18776091\n",
       "2     4011320\n",
       "5     1925101\n",
       "3     1194724\n",
       "4      578234\n",
       "6      576867\n",
       "0       94824\n",
       "9          14\n",
       "7           7\n",
       "8           3\n",
       "Name: count, dtype: int64"
      ]
     },
     "execution_count": 6,
     "metadata": {},
     "output_type": "execute_result"
    }
   ],
   "source": [
    "df['passenger_count'].value_counts()"
   ]
  },
  {
   "cell_type": "code",
   "execution_count": 8,
   "metadata": {},
   "outputs": [],
   "source": [
    "df = df[df['passenger_count'] <=6]\n",
    "df.reset_index(drop=True,inplace=True)"
   ]
  },
  {
   "cell_type": "code",
   "execution_count": 9,
   "metadata": {},
   "outputs": [
    {
     "data": {
      "text/plain": [
       "week_day\n",
       "4    4179905\n",
       "5    4123006\n",
       "3    4068784\n",
       "2    3940295\n",
       "1    3803860\n",
       "6    3561958\n",
       "0    3479353\n",
       "Name: count, dtype: int64"
      ]
     },
     "execution_count": 9,
     "metadata": {},
     "output_type": "execute_result"
    }
   ],
   "source": [
    "df['week_day'].value_counts()"
   ]
  },
  {
   "cell_type": "code",
   "execution_count": null,
   "metadata": {},
   "outputs": [],
   "source": []
  }
 ],
 "metadata": {
  "kernelspec": {
   "display_name": "nyc-env",
   "language": "python",
   "name": "python3"
  },
  "language_info": {
   "codemirror_mode": {
    "name": "ipython",
    "version": 3
   },
   "file_extension": ".py",
   "mimetype": "text/x-python",
   "name": "python",
   "nbconvert_exporter": "python",
   "pygments_lexer": "ipython3",
   "version": "3.11.9"
  }
 },
 "nbformat": 4,
 "nbformat_minor": 2
}
