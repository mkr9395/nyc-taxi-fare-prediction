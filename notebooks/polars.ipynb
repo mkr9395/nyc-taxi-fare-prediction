{
 "cells": [
  {
   "cell_type": "code",
   "execution_count": 1,
   "metadata": {},
   "outputs": [],
   "source": [
    "import pandas as pd\n",
    "import polars as pl\n",
    "import numpy as np\n",
    "import pyarrow\n"
   ]
  },
  {
   "cell_type": "code",
   "execution_count": 2,
   "metadata": {},
   "outputs": [
    {
     "data": {
      "text/html": [
       "<div><style>\n",
       ".dataframe > thead > tr,\n",
       ".dataframe > tbody > tr {\n",
       "  text-align: right;\n",
       "  white-space: pre-wrap;\n",
       "}\n",
       "</style>\n",
       "<small>shape: (5, 9)</small><table border=\"1\" class=\"dataframe\"><thead><tr><th>key</th><th>fare_amount</th><th>pickup_datetime</th><th>pickup_longitude</th><th>pickup_latitude</th><th>dropoff_longitude</th><th>dropoff_latitude</th><th>passenger_count</th><th>date</th></tr><tr><td>str</td><td>f64</td><td>datetime[μs]</td><td>f64</td><td>f64</td><td>f64</td><td>f64</td><td>i64</td><td>date</td></tr></thead><tbody><tr><td>&quot;2009-06-15 17:26:21.0000001&quot;</td><td>4.5</td><td>2009-06-15 17:26:21</td><td>-73.844311</td><td>40.721319</td><td>-73.84161</td><td>40.712278</td><td>1</td><td>2009-06-15</td></tr><tr><td>&quot;2010-01-05 16:52:16.0000002&quot;</td><td>16.9</td><td>2010-01-05 16:52:16</td><td>-74.016048</td><td>40.711303</td><td>-73.979268</td><td>40.782004</td><td>1</td><td>2010-01-05</td></tr><tr><td>&quot;2011-08-18 00:35:00.00000049&quot;</td><td>5.7</td><td>2011-08-18 00:35:00</td><td>-73.982738</td><td>40.76127</td><td>-73.991242</td><td>40.750562</td><td>2</td><td>2011-08-18</td></tr><tr><td>&quot;2012-04-21 04:30:42.0000001&quot;</td><td>7.7</td><td>2012-04-21 04:30:42</td><td>-73.98713</td><td>40.733143</td><td>-73.991567</td><td>40.758092</td><td>1</td><td>2012-04-21</td></tr><tr><td>&quot;2010-03-09 07:51:00.000000135&quot;</td><td>5.3</td><td>2010-03-09 07:51:00</td><td>-73.968095</td><td>40.768008</td><td>-73.956655</td><td>40.783762</td><td>1</td><td>2010-03-09</td></tr></tbody></table></div>"
      ],
      "text/plain": [
       "shape: (5, 9)\n",
       "┌───────────┬───────────┬───────────┬───────────┬───┬───────────┬───────────┬───────────┬──────────┐\n",
       "│ key       ┆ fare_amou ┆ pickup_da ┆ pickup_lo ┆ … ┆ dropoff_l ┆ dropoff_l ┆ passenger ┆ date     │\n",
       "│ ---       ┆ nt        ┆ tetime    ┆ ngitude   ┆   ┆ ongitude  ┆ atitude   ┆ _count    ┆ ---      │\n",
       "│ str       ┆ ---       ┆ ---       ┆ ---       ┆   ┆ ---       ┆ ---       ┆ ---       ┆ date     │\n",
       "│           ┆ f64       ┆ datetime[ ┆ f64       ┆   ┆ f64       ┆ f64       ┆ i64       ┆          │\n",
       "│           ┆           ┆ μs]       ┆           ┆   ┆           ┆           ┆           ┆          │\n",
       "╞═══════════╪═══════════╪═══════════╪═══════════╪═══╪═══════════╪═══════════╪═══════════╪══════════╡\n",
       "│ 2009-06-1 ┆ 4.5       ┆ 2009-06-1 ┆ -73.84431 ┆ … ┆ -73.84161 ┆ 40.712278 ┆ 1         ┆ 2009-06- │\n",
       "│ 5 17:26:2 ┆           ┆ 5         ┆ 1         ┆   ┆           ┆           ┆           ┆ 15       │\n",
       "│ 1.0000001 ┆           ┆ 17:26:21  ┆           ┆   ┆           ┆           ┆           ┆          │\n",
       "│ 2010-01-0 ┆ 16.9      ┆ 2010-01-0 ┆ -74.01604 ┆ … ┆ -73.97926 ┆ 40.782004 ┆ 1         ┆ 2010-01- │\n",
       "│ 5 16:52:1 ┆           ┆ 5         ┆ 8         ┆   ┆ 8         ┆           ┆           ┆ 05       │\n",
       "│ 6.0000002 ┆           ┆ 16:52:16  ┆           ┆   ┆           ┆           ┆           ┆          │\n",
       "│ 2011-08-1 ┆ 5.7       ┆ 2011-08-1 ┆ -73.98273 ┆ … ┆ -73.99124 ┆ 40.750562 ┆ 2         ┆ 2011-08- │\n",
       "│ 8 00:35:0 ┆           ┆ 8         ┆ 8         ┆   ┆ 2         ┆           ┆           ┆ 18       │\n",
       "│ 0.0000004 ┆           ┆ 00:35:00  ┆           ┆   ┆           ┆           ┆           ┆          │\n",
       "│ 9         ┆           ┆           ┆           ┆   ┆           ┆           ┆           ┆          │\n",
       "│ 2012-04-2 ┆ 7.7       ┆ 2012-04-2 ┆ -73.98713 ┆ … ┆ -73.99156 ┆ 40.758092 ┆ 1         ┆ 2012-04- │\n",
       "│ 1 04:30:4 ┆           ┆ 1         ┆           ┆   ┆ 7         ┆           ┆           ┆ 21       │\n",
       "│ 2.0000001 ┆           ┆ 04:30:42  ┆           ┆   ┆           ┆           ┆           ┆          │\n",
       "│ 2010-03-0 ┆ 5.3       ┆ 2010-03-0 ┆ -73.96809 ┆ … ┆ -73.95665 ┆ 40.783762 ┆ 1         ┆ 2010-03- │\n",
       "│ 9 07:51:0 ┆           ┆ 9         ┆ 5         ┆   ┆ 5         ┆           ┆           ┆ 09       │\n",
       "│ 0.0000001 ┆           ┆ 07:51:00  ┆           ┆   ┆           ┆           ┆           ┆          │\n",
       "│ 35        ┆           ┆           ┆           ┆   ┆           ┆           ┆           ┆          │\n",
       "└───────────┴───────────┴───────────┴───────────┴───┴───────────┴───────────┴───────────┴──────────┘"
      ]
     },
     "execution_count": 2,
     "metadata": {},
     "output_type": "execute_result"
    }
   ],
   "source": [
    "# Load the Parquet file\n",
    "df = pl.read_parquet(r\"D:\\Project\\data nyc fare data\\train.parquet\")\n",
    "df.head()"
   ]
  },
  {
   "cell_type": "code",
   "execution_count": 3,
   "metadata": {},
   "outputs": [
    {
     "data": {
      "text/plain": [
       "(55423856, 9)"
      ]
     },
     "execution_count": 3,
     "metadata": {},
     "output_type": "execute_result"
    }
   ],
   "source": [
    "df.shape"
   ]
  },
  {
   "cell_type": "code",
   "execution_count": 4,
   "metadata": {},
   "outputs": [
    {
     "data": {
      "text/plain": [
       "['key',\n",
       " 'fare_amount',\n",
       " 'pickup_datetime',\n",
       " 'pickup_longitude',\n",
       " 'pickup_latitude',\n",
       " 'dropoff_longitude',\n",
       " 'dropoff_latitude',\n",
       " 'passenger_count',\n",
       " 'date']"
      ]
     },
     "execution_count": 4,
     "metadata": {},
     "output_type": "execute_result"
    }
   ],
   "source": [
    "df.columns"
   ]
  },
  {
   "cell_type": "code",
   "execution_count": 5,
   "metadata": {},
   "outputs": [
    {
     "data": {
      "text/plain": [
       "(55423856, 7)"
      ]
     },
     "execution_count": 5,
     "metadata": {},
     "output_type": "execute_result"
    }
   ],
   "source": [
    "df = df.drop(['key','date'])\n",
    "df.shape"
   ]
  },
  {
   "cell_type": "code",
   "execution_count": 6,
   "metadata": {},
   "outputs": [],
   "source": [
    "df = df.with_columns(\n",
    "    df['pickup_datetime'].dt.day().alias('date'),\n",
    "    df['pickup_datetime'].dt.month().alias('month'),\n",
    "    df['pickup_datetime'].dt.year().alias('year'),\n",
    "    df['pickup_datetime'].dt.weekday().alias('weekday'),\n",
    "    df['pickup_datetime'].dt.hour().alias('hour'),\n",
    "    df['pickup_datetime'].dt.time().alias('time') \n",
    ")"
   ]
  },
  {
   "cell_type": "code",
   "execution_count": 7,
   "metadata": {},
   "outputs": [
    {
     "data": {
      "text/html": [
       "<div><style>\n",
       ".dataframe > thead > tr,\n",
       ".dataframe > tbody > tr {\n",
       "  text-align: right;\n",
       "  white-space: pre-wrap;\n",
       "}\n",
       "</style>\n",
       "<small>shape: (5, 13)</small><table border=\"1\" class=\"dataframe\"><thead><tr><th>fare_amount</th><th>pickup_datetime</th><th>pickup_longitude</th><th>pickup_latitude</th><th>dropoff_longitude</th><th>dropoff_latitude</th><th>passenger_count</th><th>date</th><th>month</th><th>year</th><th>weekday</th><th>hour</th><th>time</th></tr><tr><td>f64</td><td>datetime[μs]</td><td>f64</td><td>f64</td><td>f64</td><td>f64</td><td>i64</td><td>i8</td><td>i8</td><td>i32</td><td>i8</td><td>i8</td><td>time</td></tr></thead><tbody><tr><td>4.5</td><td>2009-06-15 17:26:21</td><td>-73.844311</td><td>40.721319</td><td>-73.84161</td><td>40.712278</td><td>1</td><td>15</td><td>6</td><td>2009</td><td>1</td><td>17</td><td>17:26:21</td></tr><tr><td>16.9</td><td>2010-01-05 16:52:16</td><td>-74.016048</td><td>40.711303</td><td>-73.979268</td><td>40.782004</td><td>1</td><td>5</td><td>1</td><td>2010</td><td>2</td><td>16</td><td>16:52:16</td></tr><tr><td>5.7</td><td>2011-08-18 00:35:00</td><td>-73.982738</td><td>40.76127</td><td>-73.991242</td><td>40.750562</td><td>2</td><td>18</td><td>8</td><td>2011</td><td>4</td><td>0</td><td>00:35:00</td></tr><tr><td>7.7</td><td>2012-04-21 04:30:42</td><td>-73.98713</td><td>40.733143</td><td>-73.991567</td><td>40.758092</td><td>1</td><td>21</td><td>4</td><td>2012</td><td>6</td><td>4</td><td>04:30:42</td></tr><tr><td>5.3</td><td>2010-03-09 07:51:00</td><td>-73.968095</td><td>40.768008</td><td>-73.956655</td><td>40.783762</td><td>1</td><td>9</td><td>3</td><td>2010</td><td>2</td><td>7</td><td>07:51:00</td></tr></tbody></table></div>"
      ],
      "text/plain": [
       "shape: (5, 13)\n",
       "┌─────────────┬───────────────┬──────────────┬──────────────┬───┬──────┬─────────┬──────┬──────────┐\n",
       "│ fare_amount ┆ pickup_dateti ┆ pickup_longi ┆ pickup_latit ┆ … ┆ year ┆ weekday ┆ hour ┆ time     │\n",
       "│ ---         ┆ me            ┆ tude         ┆ ude          ┆   ┆ ---  ┆ ---     ┆ ---  ┆ ---      │\n",
       "│ f64         ┆ ---           ┆ ---          ┆ ---          ┆   ┆ i32  ┆ i8      ┆ i8   ┆ time     │\n",
       "│             ┆ datetime[μs]  ┆ f64          ┆ f64          ┆   ┆      ┆         ┆      ┆          │\n",
       "╞═════════════╪═══════════════╪══════════════╪══════════════╪═══╪══════╪═════════╪══════╪══════════╡\n",
       "│ 4.5         ┆ 2009-06-15    ┆ -73.844311   ┆ 40.721319    ┆ … ┆ 2009 ┆ 1       ┆ 17   ┆ 17:26:21 │\n",
       "│             ┆ 17:26:21      ┆              ┆              ┆   ┆      ┆         ┆      ┆          │\n",
       "│ 16.9        ┆ 2010-01-05    ┆ -74.016048   ┆ 40.711303    ┆ … ┆ 2010 ┆ 2       ┆ 16   ┆ 16:52:16 │\n",
       "│             ┆ 16:52:16      ┆              ┆              ┆   ┆      ┆         ┆      ┆          │\n",
       "│ 5.7         ┆ 2011-08-18    ┆ -73.982738   ┆ 40.76127     ┆ … ┆ 2011 ┆ 4       ┆ 0    ┆ 00:35:00 │\n",
       "│             ┆ 00:35:00      ┆              ┆              ┆   ┆      ┆         ┆      ┆          │\n",
       "│ 7.7         ┆ 2012-04-21    ┆ -73.98713    ┆ 40.733143    ┆ … ┆ 2012 ┆ 6       ┆ 4    ┆ 04:30:42 │\n",
       "│             ┆ 04:30:42      ┆              ┆              ┆   ┆      ┆         ┆      ┆          │\n",
       "│ 5.3         ┆ 2010-03-09    ┆ -73.968095   ┆ 40.768008    ┆ … ┆ 2010 ┆ 2       ┆ 7    ┆ 07:51:00 │\n",
       "│             ┆ 07:51:00      ┆              ┆              ┆   ┆      ┆         ┆      ┆          │\n",
       "└─────────────┴───────────────┴──────────────┴──────────────┴───┴──────┴─────────┴──────┴──────────┘"
      ]
     },
     "execution_count": 7,
     "metadata": {},
     "output_type": "execute_result"
    }
   ],
   "source": [
    "df.head()"
   ]
  },
  {
   "cell_type": "code",
   "execution_count": 8,
   "metadata": {},
   "outputs": [
    {
     "data": {
      "text/plain": [
       "(55423856, 13)"
      ]
     },
     "execution_count": 8,
     "metadata": {},
     "output_type": "execute_result"
    }
   ],
   "source": [
    "df.shape"
   ]
  },
  {
   "cell_type": "markdown",
   "metadata": {},
   "source": [
    "duplicate_count = df.filter(df.is_duplicated()).shape[0]\n",
    "\n",
    "print(f\"Total number of duplicate rows: {duplicate_count}\")"
   ]
  },
  {
   "cell_type": "code",
   "execution_count": 13,
   "metadata": {},
   "outputs": [],
   "source": [
    "df = df.unique()\n",
    "df.shape"
   ]
  },
  {
   "cell_type": "code",
   "execution_count": 11,
   "metadata": {},
   "outputs": [
    {
     "data": {
      "text/html": [
       "<div><style>\n",
       ".dataframe > thead > tr,\n",
       ".dataframe > tbody > tr {\n",
       "  text-align: right;\n",
       "  white-space: pre-wrap;\n",
       "}\n",
       "</style>\n",
       "<small>shape: (5, 13)</small><table border=\"1\" class=\"dataframe\"><thead><tr><th>fare_amount</th><th>pickup_datetime</th><th>pickup_longitude</th><th>pickup_latitude</th><th>dropoff_longitude</th><th>dropoff_latitude</th><th>passenger_count</th><th>date</th><th>month</th><th>year</th><th>weekday</th><th>hour</th><th>time</th></tr><tr><td>f64</td><td>datetime[μs]</td><td>f64</td><td>f64</td><td>f64</td><td>f64</td><td>i64</td><td>i8</td><td>i8</td><td>i32</td><td>i8</td><td>i8</td><td>time</td></tr></thead><tbody><tr><td>5.3</td><td>2012-05-06 19:13:29</td><td>-73.965054</td><td>40.762584</td><td>-73.954171</td><td>40.775199</td><td>1</td><td>6</td><td>5</td><td>2012</td><td>7</td><td>19</td><td>19:13:29</td></tr><tr><td>5.5</td><td>2014-01-07 10:19:00</td><td>-73.98412</td><td>40.775397</td><td>-73.979715</td><td>40.782047</td><td>1</td><td>7</td><td>1</td><td>2014</td><td>2</td><td>10</td><td>10:19:00</td></tr><tr><td>6.5</td><td>2010-06-22 22:33:00</td><td>-73.977417</td><td>40.779443</td><td>-73.964593</td><td>40.802133</td><td>2</td><td>22</td><td>6</td><td>2010</td><td>2</td><td>22</td><td>22:33:00</td></tr><tr><td>13.7</td><td>2011-06-16 19:05:00</td><td>-73.805565</td><td>40.71494</td><td>-73.809633</td><td>40.715153</td><td>1</td><td>16</td><td>6</td><td>2011</td><td>4</td><td>19</td><td>19:05:00</td></tr><tr><td>4.1</td><td>2009-10-05 15:35:51</td><td>-73.999712</td><td>40.76179</td><td>-73.991612</td><td>40.758588</td><td>1</td><td>5</td><td>10</td><td>2009</td><td>1</td><td>15</td><td>15:35:51</td></tr></tbody></table></div>"
      ],
      "text/plain": [
       "shape: (5, 13)\n",
       "┌─────────────┬───────────────┬──────────────┬──────────────┬───┬──────┬─────────┬──────┬──────────┐\n",
       "│ fare_amount ┆ pickup_dateti ┆ pickup_longi ┆ pickup_latit ┆ … ┆ year ┆ weekday ┆ hour ┆ time     │\n",
       "│ ---         ┆ me            ┆ tude         ┆ ude          ┆   ┆ ---  ┆ ---     ┆ ---  ┆ ---      │\n",
       "│ f64         ┆ ---           ┆ ---          ┆ ---          ┆   ┆ i32  ┆ i8      ┆ i8   ┆ time     │\n",
       "│             ┆ datetime[μs]  ┆ f64          ┆ f64          ┆   ┆      ┆         ┆      ┆          │\n",
       "╞═════════════╪═══════════════╪══════════════╪══════════════╪═══╪══════╪═════════╪══════╪══════════╡\n",
       "│ 5.3         ┆ 2012-05-06    ┆ -73.965054   ┆ 40.762584    ┆ … ┆ 2012 ┆ 7       ┆ 19   ┆ 19:13:29 │\n",
       "│             ┆ 19:13:29      ┆              ┆              ┆   ┆      ┆         ┆      ┆          │\n",
       "│ 5.5         ┆ 2014-01-07    ┆ -73.98412    ┆ 40.775397    ┆ … ┆ 2014 ┆ 2       ┆ 10   ┆ 10:19:00 │\n",
       "│             ┆ 10:19:00      ┆              ┆              ┆   ┆      ┆         ┆      ┆          │\n",
       "│ 6.5         ┆ 2010-06-22    ┆ -73.977417   ┆ 40.779443    ┆ … ┆ 2010 ┆ 2       ┆ 22   ┆ 22:33:00 │\n",
       "│             ┆ 22:33:00      ┆              ┆              ┆   ┆      ┆         ┆      ┆          │\n",
       "│ 13.7        ┆ 2011-06-16    ┆ -73.805565   ┆ 40.71494     ┆ … ┆ 2011 ┆ 4       ┆ 19   ┆ 19:05:00 │\n",
       "│             ┆ 19:05:00      ┆              ┆              ┆   ┆      ┆         ┆      ┆          │\n",
       "│ 4.1         ┆ 2009-10-05    ┆ -73.999712   ┆ 40.76179     ┆ … ┆ 2009 ┆ 1       ┆ 15   ┆ 15:35:51 │\n",
       "│             ┆ 15:35:51      ┆              ┆              ┆   ┆      ┆         ┆      ┆          │\n",
       "└─────────────┴───────────────┴──────────────┴──────────────┴───┴──────┴─────────┴──────┴──────────┘"
      ]
     },
     "execution_count": 11,
     "metadata": {},
     "output_type": "execute_result"
    }
   ],
   "source": [
    "df.head()"
   ]
  },
  {
   "cell_type": "code",
   "execution_count": 18,
   "metadata": {},
   "outputs": [
    {
     "data": {
      "text/plain": [
       "polars.config.Config"
      ]
     },
     "execution_count": 18,
     "metadata": {},
     "output_type": "execute_result"
    }
   ],
   "source": [
    "pl.Config.set_tbl_cols(100) "
   ]
  },
  {
   "cell_type": "code",
   "execution_count": 19,
   "metadata": {},
   "outputs": [
    {
     "name": "stdout",
     "output_type": "stream",
     "text": [
      "shape: (1, 13)\n",
      "┌─────┬─────┬─────┬────────┬───────┬───────┬───────┬───────┬───────┬───────┬───────┬───────┬───────┐\n",
      "│ far ┆ pic ┆ pic ┆ pickup ┆ dropo ┆ dropo ┆ passe ┆ date_ ┆ month ┆ year_ ┆ weekd ┆ hour_ ┆ time_ │\n",
      "│ e_a ┆ kup ┆ kup ┆ _latit ┆ ff_lo ┆ ff_la ┆ nger_ ┆ null_ ┆ _null ┆ null_ ┆ ay_nu ┆ null_ ┆ null_ │\n",
      "│ mou ┆ _da ┆ _lo ┆ ude_nu ┆ ngitu ┆ titud ┆ count ┆ count ┆ _coun ┆ count ┆ ll_co ┆ count ┆ count │\n",
      "│ nt_ ┆ tet ┆ ngi ┆ ll_cou ┆ de_nu ┆ e_nul ┆ _null ┆ ---   ┆ t     ┆ ---   ┆ unt   ┆ ---   ┆ ---   │\n",
      "│ nul ┆ ime ┆ tud ┆ nt     ┆ ll_co ┆ l_cou ┆ _coun ┆ u32   ┆ ---   ┆ u32   ┆ ---   ┆ u32   ┆ u32   │\n",
      "│ l_c ┆ _nu ┆ e_n ┆ ---    ┆ unt   ┆ nt    ┆ t     ┆       ┆ u32   ┆       ┆ u32   ┆       ┆       │\n",
      "│ oun ┆ ll_ ┆ ull ┆ u32    ┆ ---   ┆ ---   ┆ ---   ┆       ┆       ┆       ┆       ┆       ┆       │\n",
      "│ t   ┆ cou ┆ _co ┆        ┆ u32   ┆ u32   ┆ u32   ┆       ┆       ┆       ┆       ┆       ┆       │\n",
      "│ --- ┆ nt  ┆ unt ┆        ┆       ┆       ┆       ┆       ┆       ┆       ┆       ┆       ┆       │\n",
      "│ u32 ┆ --- ┆ --- ┆        ┆       ┆       ┆       ┆       ┆       ┆       ┆       ┆       ┆       │\n",
      "│     ┆ u32 ┆ u32 ┆        ┆       ┆       ┆       ┆       ┆       ┆       ┆       ┆       ┆       │\n",
      "╞═════╪═════╪═════╪════════╪═══════╪═══════╪═══════╪═══════╪═══════╪═══════╪═══════╪═══════╪═══════╡\n",
      "│ 0   ┆ 0   ┆ 0   ┆ 0      ┆ 376   ┆ 376   ┆ 0     ┆ 0     ┆ 0     ┆ 0     ┆ 0     ┆ 0     ┆ 0     │\n",
      "└─────┴─────┴─────┴────────┴───────┴───────┴───────┴───────┴───────┴───────┴───────┴───────┴───────┘\n"
     ]
    }
   ],
   "source": [
    "null_counts = df.select([\n",
    "    pl.col(col).is_null().sum().alias(f\"{col}_null_count\") for col in df.columns\n",
    "])\n",
    "\n",
    "print(null_counts)"
   ]
  },
  {
   "cell_type": "code",
   "execution_count": 20,
   "metadata": {},
   "outputs": [],
   "source": [
    "df= df.filter(\n",
    "    (pl.col('pickup_longitude') != 0.0) &\n",
    "    (pl.col('pickup_latitude') != 0.0) &\n",
    "    (pl.col('dropoff_longitude') != 0.0) &\n",
    "    (pl.col('dropoff_latitude') != 0.0)\n",
    ")"
   ]
  },
  {
   "cell_type": "code",
   "execution_count": 21,
   "metadata": {},
   "outputs": [
    {
     "data": {
      "text/plain": [
       "(54318972, 13)"
      ]
     },
     "execution_count": 21,
     "metadata": {},
     "output_type": "execute_result"
    }
   ],
   "source": [
    "df.shape"
   ]
  },
  {
   "cell_type": "code",
   "execution_count": 13,
   "metadata": {},
   "outputs": [
    {
     "data": {
      "text/plain": [
       "polars.dataframe.frame.DataFrame"
      ]
     },
     "execution_count": 13,
     "metadata": {},
     "output_type": "execute_result"
    }
   ],
   "source": [
    "type(null_counts)"
   ]
  },
  {
   "cell_type": "code",
   "execution_count": 22,
   "metadata": {},
   "outputs": [],
   "source": [
    "df = df.filter(\n",
    "    (pl.col('pickup_latitude').is_between(-90, 90)) &\n",
    "    (pl.col('dropoff_latitude').is_between(-90, 90))\n",
    ")\n",
    "df = df.filter(\n",
    "    (pl.col('pickup_longitude').is_between(-180, 180)) &\n",
    "    (pl.col('dropoff_longitude').is_between(-180, 180))\n",
    ")"
   ]
  },
  {
   "cell_type": "code",
   "execution_count": 23,
   "metadata": {},
   "outputs": [
    {
     "data": {
      "text/plain": [
       "(54316546, 13)"
      ]
     },
     "execution_count": 23,
     "metadata": {},
     "output_type": "execute_result"
    }
   ],
   "source": [
    "df.shape"
   ]
  },
  {
   "cell_type": "code",
   "execution_count": 24,
   "metadata": {},
   "outputs": [],
   "source": [
    "def haversine(lat1, lon1, lat2, lon2):\n",
    "    lat1, lon1, lat2, lon2 = map(np.radians, [lat1, lon1, lat2, lon2])\n",
    "    dlat = lat2 - lat1\n",
    "    dlon = lon2 - lon1\n",
    "    a = np.sin(dlat / 2)**2 + np.cos(lat1) * np.cos(lat2) * np.sin(dlon / 2)**2\n",
    "    c = 2 * np.arctan2(np.sqrt(a), np.sqrt(1 - a))\n",
    "    return 6371 * c\n"
   ]
  },
  {
   "cell_type": "code",
   "execution_count": 33,
   "metadata": {},
   "outputs": [
    {
     "ename": "ModuleNotFoundError",
     "evalue": "pa.Table requires 'pyarrow' module to be installed",
     "output_type": "error",
     "traceback": [
      "\u001b[1;31m---------------------------------------------------------------------------\u001b[0m",
      "\u001b[1;31mModuleNotFoundError\u001b[0m                       Traceback (most recent call last)",
      "Cell \u001b[1;32mIn[33], line 1\u001b[0m\n\u001b[1;32m----> 1\u001b[0m df_pandas \u001b[38;5;241m=\u001b[39m \u001b[43mdf\u001b[49m\u001b[38;5;241;43m.\u001b[39;49m\u001b[43mto_pandas\u001b[49m\u001b[43m(\u001b[49m\u001b[43m)\u001b[49m\n",
      "File \u001b[1;32md:\\Project\\data nyc taxi fare prediction\\nyc-taxi-fare-prediction\\nyc-env\\Lib\\site-packages\\polars\\dataframe\\frame.py:2391\u001b[0m, in \u001b[0;36mDataFrame.to_pandas\u001b[1;34m(self, use_pyarrow_extension_array, **kwargs)\u001b[0m\n\u001b[0;32m   2386\u001b[0m \u001b[38;5;28;01mif\u001b[39;00m Object \u001b[38;5;129;01min\u001b[39;00m \u001b[38;5;28mself\u001b[39m\u001b[38;5;241m.\u001b[39mdtypes:\n\u001b[0;32m   2387\u001b[0m     \u001b[38;5;28;01mreturn\u001b[39;00m \u001b[38;5;28mself\u001b[39m\u001b[38;5;241m.\u001b[39m_to_pandas_with_object_columns(\n\u001b[0;32m   2388\u001b[0m         use_pyarrow_extension_array\u001b[38;5;241m=\u001b[39muse_pyarrow_extension_array, \u001b[38;5;241m*\u001b[39m\u001b[38;5;241m*\u001b[39mkwargs\n\u001b[0;32m   2389\u001b[0m     )\n\u001b[1;32m-> 2391\u001b[0m \u001b[38;5;28;01mreturn\u001b[39;00m \u001b[38;5;28;43mself\u001b[39;49m\u001b[38;5;241;43m.\u001b[39;49m\u001b[43m_to_pandas_without_object_columns\u001b[49m\u001b[43m(\u001b[49m\n\u001b[0;32m   2392\u001b[0m \u001b[43m    \u001b[49m\u001b[38;5;28;43mself\u001b[39;49m\u001b[43m,\u001b[49m\u001b[43m \u001b[49m\u001b[43muse_pyarrow_extension_array\u001b[49m\u001b[38;5;241;43m=\u001b[39;49m\u001b[43muse_pyarrow_extension_array\u001b[49m\u001b[43m,\u001b[49m\u001b[43m \u001b[49m\u001b[38;5;241;43m*\u001b[39;49m\u001b[38;5;241;43m*\u001b[39;49m\u001b[43mkwargs\u001b[49m\n\u001b[0;32m   2393\u001b[0m \u001b[43m\u001b[49m\u001b[43m)\u001b[49m\n",
      "File \u001b[1;32md:\\Project\\data nyc taxi fare prediction\\nyc-taxi-fare-prediction\\nyc-env\\Lib\\site-packages\\polars\\dataframe\\frame.py:2443\u001b[0m, in \u001b[0;36mDataFrame._to_pandas_without_object_columns\u001b[1;34m(self, df, use_pyarrow_extension_array, **kwargs)\u001b[0m\n\u001b[0;32m   2440\u001b[0m     \u001b[38;5;28;01mreturn\u001b[39;00m pd\u001b[38;5;241m.\u001b[39mDataFrame()\n\u001b[0;32m   2442\u001b[0m record_batches \u001b[38;5;241m=\u001b[39m df\u001b[38;5;241m.\u001b[39m_df\u001b[38;5;241m.\u001b[39mto_pandas()\n\u001b[1;32m-> 2443\u001b[0m tbl \u001b[38;5;241m=\u001b[39m \u001b[43mpa\u001b[49m\u001b[38;5;241;43m.\u001b[39;49m\u001b[43mTable\u001b[49m\u001b[38;5;241m.\u001b[39mfrom_batches(record_batches)\n\u001b[0;32m   2444\u001b[0m \u001b[38;5;28;01mif\u001b[39;00m use_pyarrow_extension_array:\n\u001b[0;32m   2445\u001b[0m     \u001b[38;5;28;01mreturn\u001b[39;00m tbl\u001b[38;5;241m.\u001b[39mto_pandas(\n\u001b[0;32m   2446\u001b[0m         self_destruct\u001b[38;5;241m=\u001b[39m\u001b[38;5;28;01mTrue\u001b[39;00m,\n\u001b[0;32m   2447\u001b[0m         split_blocks\u001b[38;5;241m=\u001b[39m\u001b[38;5;28;01mTrue\u001b[39;00m,\n\u001b[0;32m   2448\u001b[0m         types_mapper\u001b[38;5;241m=\u001b[39m\u001b[38;5;28;01mlambda\u001b[39;00m pa_dtype: pd\u001b[38;5;241m.\u001b[39mArrowDtype(pa_dtype),\n\u001b[0;32m   2449\u001b[0m         \u001b[38;5;241m*\u001b[39m\u001b[38;5;241m*\u001b[39mkwargs,\n\u001b[0;32m   2450\u001b[0m     )\n",
      "File \u001b[1;32md:\\Project\\data nyc taxi fare prediction\\nyc-taxi-fare-prediction\\nyc-env\\Lib\\site-packages\\polars\\dependencies.py:98\u001b[0m, in \u001b[0;36m_LazyModule.__getattr__\u001b[1;34m(self, name)\u001b[0m\n\u001b[0;32m     96\u001b[0m pfx \u001b[38;5;241m=\u001b[39m \u001b[38;5;28mself\u001b[39m\u001b[38;5;241m.\u001b[39m_mod_pfx\u001b[38;5;241m.\u001b[39mget(\u001b[38;5;28mself\u001b[39m\u001b[38;5;241m.\u001b[39m_module_name, \u001b[38;5;124m\"\u001b[39m\u001b[38;5;124m\"\u001b[39m)\n\u001b[0;32m     97\u001b[0m msg \u001b[38;5;241m=\u001b[39m \u001b[38;5;124mf\u001b[39m\u001b[38;5;124m\"\u001b[39m\u001b[38;5;132;01m{\u001b[39;00mpfx\u001b[38;5;132;01m}\u001b[39;00m\u001b[38;5;132;01m{\u001b[39;00mname\u001b[38;5;132;01m}\u001b[39;00m\u001b[38;5;124m requires \u001b[39m\u001b[38;5;132;01m{\u001b[39;00m\u001b[38;5;28mself\u001b[39m\u001b[38;5;241m.\u001b[39m_module_name\u001b[38;5;132;01m!r}\u001b[39;00m\u001b[38;5;124m module to be installed\u001b[39m\u001b[38;5;124m\"\u001b[39m\n\u001b[1;32m---> 98\u001b[0m \u001b[38;5;28;01mraise\u001b[39;00m \u001b[38;5;167;01mModuleNotFoundError\u001b[39;00m(msg) \u001b[38;5;28;01mfrom\u001b[39;00m \u001b[38;5;28;01mNone\u001b[39;00m\n",
      "\u001b[1;31mModuleNotFoundError\u001b[0m: pa.Table requires 'pyarrow' module to be installed"
     ]
    }
   ],
   "source": [
    "df_pandas = df.to_pandas()"
   ]
  },
  {
   "cell_type": "code",
   "execution_count": null,
   "metadata": {},
   "outputs": [],
   "source": []
  }
 ],
 "metadata": {
  "kernelspec": {
   "display_name": "nyc-env",
   "language": "python",
   "name": "python3"
  },
  "language_info": {
   "codemirror_mode": {
    "name": "ipython",
    "version": 3
   },
   "file_extension": ".py",
   "mimetype": "text/x-python",
   "name": "python",
   "nbconvert_exporter": "python",
   "pygments_lexer": "ipython3",
   "version": "3.11.9"
  }
 },
 "nbformat": 4,
 "nbformat_minor": 2
}
